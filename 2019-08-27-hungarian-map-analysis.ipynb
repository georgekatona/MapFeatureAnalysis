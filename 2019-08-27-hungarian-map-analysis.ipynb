{
 "cells": [
  {
   "cell_type": "markdown",
   "metadata": {},
   "source": [
    "# Feature analysis of the Hungarian map exported from OpenStreetMap\n",
    "\n",
    "### Goal\n",
    "\n",
    "The current document indends to ask and answer interesting questions about the map features of Hungary, including but not exclusive to road distribution, taxi station locations and common amenities.\n",
    "\n",
    "### Data Preparation\n",
    "\n",
    "OpenStreetMap publishes openly accessible updates to all countries of the world. We downloaded an export of the Hungarian map from http://download.geofabrik.de/europe.html. OpenStreetMap uses the file format .pbf, which is a compact binary format, more suitable to store and process than xml. In order to run our analysis however, we converted it to the Spark friendly Parquet format, using [OpenStreetMap Parquetizer](https://github.com/adrianulbona/osm-parquetizer). The result is three Parquet files for each three entities: Nodes, Ways and Relations. The format of the files is the following:\n",
    "\n",
    "node <br />\n",
    " |-- id: long<br />\n",
    " |-- version: integer<br />\n",
    " |-- timestamp: long<br />\n",
    " |-- changeset: long<br />\n",
    " |-- uid: integer<br />\n",
    " |-- user_sid: string<br />\n",
    " |-- tags: array<br />\n",
    " |    |-- element: struct<br />\n",
    " |    |    |-- key: string<br />\n",
    " |    |    |-- value: string<br />\n",
    " |-- latitude: double<br />\n",
    " |-- longitude: double<br />\n",
    "<br />\n",
    "way<br />\n",
    " |-- id: long<br />\n",
    " |-- version: integer<br />\n",
    " |-- timestamp: long<br />\n",
    " |-- changeset: long<br />\n",
    " |-- uid: integer<br />\n",
    " |-- user_sid: string<br />\n",
    " |-- tags: array<br />\n",
    " |    |-- element: struct<br />\n",
    " |    |    |-- key: string<br />\n",
    " |    |    |-- value: string<br />\n",
    " |-- nodes: array<br />\n",
    " |    |-- element: struct<br />\n",
    " |    |    |-- index: integer<br />\n",
    " |    |    |-- nodeId: long<br />\n",
    "<br />\n",
    "relation<br />\n",
    " |-- id: long<br />\n",
    " |-- version: integer<br />\n",
    " |-- timestamp: long<br />\n",
    " |-- changeset: long<br />\n",
    " |-- uid: integer<br />\n",
    " |-- user_sid: string<br />\n",
    " |-- tags: array<br />\n",
    " |    |-- element: struct<br />\n",
    " |    |    |-- key: string<br />\n",
    " |    |    |-- value: string<br />\n",
    " |-- members: array<br />\n",
    " |    |-- element: struct<br />\n",
    " |    |    |-- id: long<br />\n",
    " |    |    |-- role: string<br />\n",
    " |    |    |-- type: string<br />"
   ]
  },
  {
   "cell_type": "code",
   "execution_count": null,
   "metadata": {},
   "outputs": [],
   "source": []
  },
  {
   "cell_type": "code",
   "execution_count": null,
   "metadata": {},
   "outputs": [],
   "source": []
  }
 ],
 "metadata": {
  "kernelspec": {
   "display_name": "Python 3",
   "language": "python",
   "name": "python3"
  },
  "language_info": {
   "codemirror_mode": {
    "name": "ipython",
    "version": 3
   },
   "file_extension": ".py",
   "mimetype": "text/x-python",
   "name": "python",
   "nbconvert_exporter": "python",
   "pygments_lexer": "ipython3",
   "version": "3.7.1"
  }
 },
 "nbformat": 4,
 "nbformat_minor": 2
}
